{
 "cells": [
  {
   "cell_type": "markdown",
   "metadata": {},
   "source": [
    "# Inventariando os serviços\n",
    "\n",
    "O GeoSampa disponibiliza serviços WMS atravéz do endereço http://wms.geosampa.prefeitura.sp.gov.br/geoserver/geoportal/wms\n",
    "\n",
    "Portanto vamos utiliza-lo para inventariar as camadas"
   ]
  },
  {
   "cell_type": "code",
   "execution_count": 1,
   "metadata": {},
   "outputs": [],
   "source": [
    "from owslib.wms import WebMapService"
   ]
  },
  {
   "cell_type": "code",
   "execution_count": 4,
   "metadata": {},
   "outputs": [],
   "source": [
    "wms = WebMapService('http://wms.geosampa.prefeitura.sp.gov.br/geoserver/geoportal/wms', version='1.3.0')"
   ]
  },
  {
   "cell_type": "code",
   "execution_count": 7,
   "metadata": {},
   "outputs": [
    {
     "data": {
      "text/plain": [
       "['Articulacao_Orto_MDC_2004',\n",
       " 'geoportal:quadricula_orto_2004_E5000',\n",
       " 'geoportal:quadricula_orto_2004_E1000',\n",
       " 'Articulacao_SaraBrasil_1930',\n",
       " 'geoportal:quadricula_SARA_1930_E20000',\n",
       " 'geoportal:quadricula_SARA_1930_E5000',\n",
       " 'geoportal:quadricula_SARA_1930_E1000',\n",
       " 'Articulacao_foto_aerea_MDC_2004',\n",
       " 'geoportal:quadricula_foto_aerea_2004_E1000',\n",
       " 'geoportal:quadricula_foto_aerea_2004_E5000',\n",
       " 'Carta_Geotecnica',\n",
       " 'geoportal:geotecnica_poligono',\n",
       " 'geoportal:geotecnica_linha',\n",
       " 'geoportal:geotecnica_ponto',\n",
       " 'Curva_Intermediaria',\n",
       " 'geoportal:curva_intermediaria',\n",
       " 'geoportal:curva_intermediaria_s',\n",
       " 'Curva_Mestra',\n",
       " 'geoportal:curva_mestra',\n",
       " 'geoportal:curva_mestra_s',\n",
       " 'Energia',\n",
       " 'geoportal:linha_alta_tensao',\n",
       " 'geoportal:torre_alta_tensao',\n",
       " 'MapaBase_Politico',\n",
       " 'MapaBase_Topografico',\n",
       " 'Perimetro_Zoneamento',\n",
       " 'geoportal:zoneamento_2004_urbana',\n",
       " 'geoportal:zoneamento_2004_ambiental',\n",
       " 'geoportal:zoneamento_2004_especial',\n",
       " 'geoportal:zoneamento_2004_verde',\n",
       " 'geoportal:zoneamento_2004_operacaourbana',\n",
       " 'Hillshade_MDC_2004',\n",
       " 'acessibilidade_smped',\n",
       " 'acidente_cet',\n",
       " 'area_cedida',\n",
       " 'area_contexto',\n",
       " 'area_risco_geologico',\n",
       " 'arruamento_regularizado',\n",
       " 'arvore',\n",
       " 'bacia_hidrografica',\n",
       " 'cartorio_registro_imovel',\n",
       " 'centro_referencia_assistencia_social',\n",
       " 'conectividade_fablab_grande',\n",
       " 'conectividade_fablab_pequeno',\n",
       " 'conectividade_telecentro',\n",
       " 'conjunto',\n",
       " 'corredor_onibus',\n",
       " 'croqui_patrimonial',\n",
       " 'declividade',\n",
       " 'decreto_utilidade_publica_interesse_social',\n",
       " 'desmembramento_gleba',\n",
       " 'diretriz',\n",
       " 'distrito_municipal',\n",
       " 'drenagem',\n",
       " 'edificacao',\n",
       " 'edificacao_pseudo3d',\n",
       " 'eixo_ativado_decreto',\n",
       " 'equipamento_assistencia_social',\n",
       " 'equipamento_bom_prato',\n",
       " 'equipamento_bombeiros',\n",
       " 'equipamento_casas_mediacao',\n",
       " 'equipamento_cat',\n",
       " 'equipamento_ccz',\n",
       " 'equipamento_cemiterio',\n",
       " 'equipamento_central_triagem_cooperativa',\n",
       " 'equipamento_central_triagem_mecanizada',\n",
       " 'equipamento_conselho_tutelar',\n",
       " 'equipamento_cultura_bibliotecas',\n",
       " 'equipamento_cultura_espacos_culturais',\n",
       " 'equipamento_cultura_museus',\n",
       " 'equipamento_cultura_outros',\n",
       " 'equipamento_cultura_teatro_cinema_show',\n",
       " 'equipamento_ecoponto',\n",
       " 'equipamento_educacao_ceu',\n",
       " 'equipamento_educacao_ensino_tecnico_rede_publica',\n",
       " 'equipamento_educacao_infantil_rede_publica',\n",
       " 'equipamento_educacao_outros',\n",
       " 'equipamento_educacao_pronatec',\n",
       " 'equipamento_educacao_rede_privada',\n",
       " 'equipamento_educacao_rede_publica',\n",
       " 'equipamento_educacao_senai_sesi_senac',\n",
       " 'equipamento_entidade_crianca_adolescente',\n",
       " 'equipamento_esporte_centro_esportivo',\n",
       " 'equipamento_esporte_clubes',\n",
       " 'equipamento_esporte_clubesdacomunidade',\n",
       " 'equipamento_esporte_estadios',\n",
       " 'equipamento_esporte_outros',\n",
       " 'equipamento_feira_livre',\n",
       " 'equipamento_guarda_civil_metropolitana',\n",
       " 'equipamento_mercados_municipais',\n",
       " 'equipamento_policia_civil',\n",
       " 'equipamento_policia_militar',\n",
       " 'equipamento_praca_wifi',\n",
       " 'equipamento_rede_servicos',\n",
       " 'equipamento_sacoloes',\n",
       " 'equipamento_saude_ambulatorios_especializados',\n",
       " 'equipamento_saude_hospital',\n",
       " 'equipamento_saude_outros',\n",
       " 'equipamento_saude_saude_mental',\n",
       " 'equipamento_saude_ubs_posto_centro',\n",
       " 'equipamento_saude_unidades_dst-aids',\n",
       " 'equipamento_saude_urgencia_emergencia',\n",
       " 'equipamento_saude_vigilancia_saude',\n",
       " 'equipamento_shopping_center',\n",
       " 'estacao_metro',\n",
       " 'estacao_trem',\n",
       " 'faixa_onibus',\n",
       " 'ferrovia_mdc',\n",
       " 'hidrografia_ilha',\n",
       " 'hidrografia_restituida',\n",
       " 'iluminacao_publica',\n",
       " 'imovel_notificado',\n",
       " 'linha_metro',\n",
       " 'linha_trem',\n",
       " 'lote_cidadao',\n",
       " 'manancial',\n",
       " 'marco',\n",
       " 'massa_d_agua',\n",
       " 'obra_arte',\n",
       " 'operacao_urbana',\n",
       " 'outorga_onerosa',\n",
       " 'parque_municipal',\n",
       " 'passagem',\n",
       " 'patrimonio_cultural_acervo_tombado',\n",
       " 'patrimonio_cultural_area_arqueologica',\n",
       " 'patrimonio_cultural_area_envoltoria_CONDEPHAAT',\n",
       " 'patrimonio_cultural_area_envoltoria_CONPRESP',\n",
       " 'patrimonio_cultural_area_envoltoria_IPHAN',\n",
       " 'patrimonio_cultural_bem_arqueologico',\n",
       " 'patrimonio_cultural_bem_registrado',\n",
       " 'patrimonio_cultural_bem_tombado',\n",
       " 'patrimonio_cultural_lugar_paisagistico_ambiental',\n",
       " 'patrimonio_cultural_memoria_paulistana',\n",
       " 'patrimonio_cultural_monumento',\n",
       " 'patrimonio_cultural_ocorrencia_arqueologica',\n",
       " 'patrimonio_cultural_selo_valor_cultural',\n",
       " 'patrimonio_cultural_sitio_arqueologico',\n",
       " 'pde2014_v_eetr_03_map',\n",
       " 'pde2014_v_eixo_prv_03a_map',\n",
       " 'pde2014_v_maem_02a_map',\n",
       " 'pde2014_v_mcrar_02_map',\n",
       " 'pde2014_v_mcrz_01_map',\n",
       " 'pde2014_v_parq_pde_map',\n",
       " 'pde2014_v_prmr_ict_11_map',\n",
       " 'pde2014_v_zeis_04_map',\n",
       " 'pde2014_v_zeis_04a_map',\n",
       " 'pde2014_v_zu_zr_01a_map',\n",
       " 'pluviometro',\n",
       " 'ponto_cotado',\n",
       " 'ponto_intervia',\n",
       " 'ponto_onibus',\n",
       " 'quadra_fiscal',\n",
       " 'quadra_viaria_editada',\n",
       " 'quadricula_foto_aerea_1940',\n",
       " 'quadricula_foto_aerea_1954',\n",
       " 'quadricula_foto_aerea_2000',\n",
       " 'quadricula_foto_aerea_2001',\n",
       " 'quadricula_orto_2001',\n",
       " 'quadricula_vasp_cruzeiro',\n",
       " 'rede_comgas',\n",
       " 'registro_area_publica',\n",
       " 'remanescente_pmma',\n",
       " 'represa_nivel_maximo',\n",
       " 'reservatorio_amortecimento',\n",
       " 'restricao_geotecnica',\n",
       " 'sede_subprefeitura',\n",
       " 'segmento_logradouro',\n",
       " 'semaforo',\n",
       " 'servico_assistencia_social_familia',\n",
       " 'servico_medida_socioeducativa',\n",
       " 'setor_censitario_2010',\n",
       " 'setor_censitario_densidadedemografica',\n",
       " 'setor_censitario_vulnerabilidadesocial',\n",
       " 'setor_fiscal',\n",
       " 'subprefeitura',\n",
       " 'subsetor_operacao_urbana',\n",
       " 'terminal_onibus',\n",
       " 'terra_indigena',\n",
       " 'tpcl_uso_predominancia',\n",
       " 'transpetro_duto',\n",
       " 'transpetro_marco',\n",
       " 'unidade_conservacao_APA',\n",
       " 'via_bicicleta',\n",
       " 'zeis_revogada',\n",
       " 'zona_origem_destino',\n",
       " 'zoneamento_2016_map1',\n",
       " 'zoneamento_2016_map2',\n",
       " 'zoneamento_2016_map3',\n",
       " 'zoneamento_2016_map4',\n",
       " 'zoneamento_2016_zeup_zemp',\n",
       " 'zoneamento_classificacao_viaria',\n",
       " 'zoneamento_corredor_uso']"
      ]
     },
     "execution_count": 7,
     "metadata": {},
     "output_type": "execute_result"
    }
   ],
   "source": [
    "list(wms.contents)"
   ]
  },
  {
   "cell_type": "code",
   "execution_count": 8,
   "metadata": {},
   "outputs": [
    {
     "data": {
      "text/plain": [
       "192"
      ]
     },
     "execution_count": 8,
     "metadata": {},
     "output_type": "execute_result"
    }
   ],
   "source": [
    "len(wms.contents)"
   ]
  },
  {
   "cell_type": "code",
   "execution_count": 23,
   "metadata": {},
   "outputs": [
    {
     "name": "stdout",
     "output_type": "stream",
     "text": [
      "1.154\n",
      "Prefeituras Regionais\n",
      "['subprefeitura', 'features']\n",
      "As subprefeituras foram criadas mediante a Lei nº 13.339/2002. Seus limites foram estabelecidos de forma a não comprometer a divisão distrital do município, permitindo assim a agregação de dados também para cada uma dessas unidades político-administrativas.\n"
     ]
    }
   ],
   "source": [
    "#print(vars(wms.contents['subprefeitura']))\n",
    "print(wms.contents['subprefeitura'].index)\n",
    "print(wms.contents['subprefeitura'].title)\n",
    "print(wms.contents['subprefeitura'].keywords)\n",
    "print(wms.contents['subprefeitura'].abstract)"
   ]
  },
  {
   "cell_type": "code",
   "execution_count": 43,
   "metadata": {},
   "outputs": [
    {
     "name": "stdout",
     "output_type": "stream",
     "text": [
      "1.94\n",
      "lote_cidadao\n",
      "['lote_cidadao', 'features']\n",
      "Lotes fiscais com informações de zoneamento. A Lei de Zoneamento estabelece normas complementares ao Plano Diretor Estratégico, institui os Planos Regionais Estratégicos das Subprefeituras, dispõe sobre o parcelamento, disciplina e ordena o Uso e Ocupação do Solo do Município de São Paulo. Os valores de zoneamento, estabelecido na Lei nº 13.885/2004, foram agregados as feições de lotes através dos números de setor, quadra e lote , tendo como base cartográfica o Mapa Digital da Cidade e as informações fiscais da Secretaria de Finanças.\n"
     ]
    }
   ],
   "source": [
    "#print(vars(wms.contents['lote_cidadao']))\n",
    "print(wms.contents['lote_cidadao'].index)\n",
    "print(wms.contents['lote_cidadao'].title)\n",
    "print(wms.contents['lote_cidadao'].keywords)\n",
    "print(wms.contents['lote_cidadao'].abstract)"
   ]
  },
  {
   "cell_type": "code",
   "execution_count": 34,
   "metadata": {},
   "outputs": [
    {
     "data": {
      "text/plain": [
       "['GetCapabilities', 'GetMap', 'GetFeatureInfo']"
      ]
     },
     "execution_count": 34,
     "metadata": {},
     "output_type": "execute_result"
    }
   ],
   "source": [
    "[op.name for op in wms.operations]"
   ]
  },
  {
   "cell_type": "code",
   "execution_count": 35,
   "metadata": {},
   "outputs": [
    {
     "data": {
      "text/plain": [
       "[{'type': 'Get', 'url': 'http://wms.geosampa.prefeitura.sp.gov.br:80/geoserver/geoportal/ows?SERVICE=WMS&'}]"
      ]
     },
     "execution_count": 35,
     "metadata": {},
     "output_type": "execute_result"
    }
   ],
   "source": [
    "wms.getOperationByName('GetMap').methods"
   ]
  },
  {
   "cell_type": "code",
   "execution_count": 36,
   "metadata": {},
   "outputs": [
    {
     "data": {
      "text/plain": [
       "['image/png', 'application/atom+xml', 'application/pdf', 'application/rss+xml', 'application/vnd.google-earth.kml+xml', 'application/vnd.google-earth.kml+xml;mode=networklink', 'application/vnd.google-earth.kmz', 'image/geotiff', 'image/geotiff8', 'image/gif', 'image/jpeg', 'image/png; mode=8bit', 'image/svg+xml', 'image/tiff', 'image/tiff8', 'text/html; subtype=openlayers']"
      ]
     },
     "execution_count": 36,
     "metadata": {},
     "output_type": "execute_result"
    }
   ],
   "source": [
    "wms.getOperationByName('GetMap').formatOptions"
   ]
  },
  {
   "cell_type": "markdown",
   "metadata": {},
   "source": [
    "## Gravando os dados em um arquivo"
   ]
  },
  {
   "cell_type": "code",
   "execution_count": 61,
   "metadata": {},
   "outputs": [],
   "source": [
    "f = open(\"inventario/inventario_camadas_geosampa.txt\",\"w+\")\n",
    "f.write(\"Seguem a seguir as %s camadas obtidas pelo serviço WMS do GeoPortal do GeoSampa\\n\" %(str(len(wms.contents))))\n",
    "for l in wms.contents:\n",
    "    f.write(\"*\" * 30)\n",
    "    f.write(\"\\n\")\n",
    "    f.write(\"Índice: %s\\n\" %(wms.contents[l].index))\n",
    "    f.write(\"Camada: %s\\n\" %(wms.contents[l].title))\n",
    "    f.write(\"Palavras-chave: %s\\n\" %(wms.contents[l].keywords))\n",
    "    f.write(\"Resumo: %s\\n\" %(wms.contents[l].abstract))\n",
    "f.close()"
   ]
  }
 ],
 "metadata": {
  "kernelspec": {
   "display_name": "Python 3",
   "language": "python",
   "name": "python3"
  },
  "language_info": {
   "codemirror_mode": {
    "name": "ipython",
    "version": 3
   },
   "file_extension": ".py",
   "mimetype": "text/x-python",
   "name": "python",
   "nbconvert_exporter": "python",
   "pygments_lexer": "ipython3",
   "version": "3.7.6"
  }
 },
 "nbformat": 4,
 "nbformat_minor": 4
}
